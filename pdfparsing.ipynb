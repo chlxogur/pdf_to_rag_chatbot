{
 "cells": [
  {
   "cell_type": "code",
   "execution_count": 1,
   "metadata": {},
   "outputs": [],
   "source": [
    "import tabula\n",
    "from pypdf import PdfReader\n",
    "import re\n",
    "import pandas as pd\n",
    "import numpy as np"
   ]
  },
  {
   "cell_type": "code",
   "execution_count": 9,
   "metadata": {},
   "outputs": [],
   "source": [
    "# 목차에서 검색해서 지금 챕터의 인덱스와 다음 챕터의 이름, 인덱스를 리턴, 못 찾았으면 -1을 리턴\n",
    "def title_to_page_index(reader, chapter_title):\n",
    "    length_of_table_of_contents = get_first_page_index(reader)\n",
    "    for idx in range(length_of_table_of_contents):\n",
    "        page = reader.pages[idx]\n",
    "        table_of_contents = page.extract_text()\n",
    "        start_index = table_of_contents.find(chapter_title)\n",
    "        if start_index != -1:\n",
    "            end_of_line = table_of_contents[start_index:].find(\"\\n\") + start_index\n",
    "            page_index = int(table_of_contents[start_index:end_of_line].split(\". \")[-1]) + length_of_table_of_contents - 1      # 0부터 시작하는 인덱스니까 -1을 넣어줌\n",
    "            r = re.compile(r\"[.][ ]?[^.]+[ ]?[.]{3}\")\n",
    "            match = r.search(table_of_contents[end_of_line+1:]).span()\n",
    "            chapter_title_of_next_chapter = table_of_contents[match[0]+(end_of_line+1):match[1]+(end_of_line+1)].strip(\" .\")\n",
    "            end_of_next_line = table_of_contents[end_of_line+1:].find(\"\\n\") + (end_of_line+1)\n",
    "            page_index_of_next_chapter = int(table_of_contents[end_of_line+1:end_of_next_line].split(\". \")[-1]) + length_of_table_of_contents - 1\n",
    "            result = {\n",
    "                \"chapter_title\" : chapter_title,\n",
    "                \"page_index\": page_index,\n",
    "                \"chapter_title_of_next_chapter\" : chapter_title_of_next_chapter,\n",
    "                \"page_index_of_next_chapter\" : page_index_of_next_chapter\n",
    "            }\n",
    "            #print(result)\n",
    "            return result\n",
    "    return -1\n",
    "\n",
    "# 첫 페이지의 페이지 인덱스를 리턴\n",
    "def get_first_page_index(reader):\n",
    "    for idx, page in enumerate(reader.pages):\n",
    "        text = page.extract_text()\n",
    "        if text.rfind(\"Page 1\") != -1:\n",
    "            return idx\n",
    "\n",
    "# 챕터의 텍스트를 리턴\n",
    "def get_text_of_chapter(reader, chapter_title):\n",
    "    number_of_pages = len(reader.pages)\n",
    "    page_info = title_to_page_index(reader, chapter_title)\n",
    "    if page_info == -1:\n",
    "        return -1\n",
    "    start_page = page_info[\"page_index\"] - 1 if page_info[\"page_index\"] > 0 else page_info[\"page_index\"]\n",
    "    end_page = page_info[\"page_index_of_next_chapter\"] + 1 if page_info[\"page_index_of_next_chapter\"] < (number_of_pages - 1) else page_info[\"page_index_of_next_chapter\"]  # 마지막 페이지를 넘어가지 않도록 조건 지정\n",
    "    text = \"\"\n",
    "    for page_number in range(start_page, end_page + 1):\n",
    "        page = reader.pages[page_number]\n",
    "        text = \"\".join([text, page.extract_text()])\n",
    "    r = re.compile(f\"(?<!\\. ){page_info['chapter_title']}\")\n",
    "    start = r.search(text).start()\n",
    "    r = re.compile(f\"(?<!\\. ){page_info['chapter_title_of_next_chapter']}\")\n",
    "    end = r.search(text).start()\n",
    "    return text[start:end]"
   ]
  },
  {
   "cell_type": "code",
   "execution_count": 12,
   "metadata": {},
   "outputs": [
    {
     "data": {
      "text/plain": [
       "'연결 손익계산서\\n제 56 기 2023.01.01 부터 2023.12.31 까지\\n제 55 기 2022.01.01 부터 2022.12.31 까지\\n제 54 기 2021.01.01 부터 2021.12.31 까지\\n(단위 : 백만원)\\n\\u3000 제 56 기 제 55 기 제 54 기\\n매출액 162,663,579 142,151,469 116,448,159\\n매출원가 129,179,183 113,879,569 94,721,313\\n매출총이익 33,484,396 28,271,900 21,726,846\\n판매비와관리비 18,357,495 18,446,972 15,200,325\\n영업이익 15,126,901 9,824,928 6,526,521\\n공동기업및관계기업투\\n자손익2,470,933 1,557,630 1,302,150\\n금융수익 1,559,538 985,893 841,196\\n금융비용 970,700 879,638 512,836\\n기타수익 1,782,333 1,930,914 1,377,997\\n기타비용 2,350,343 2,238,256 1,745,985\\n법인세비용차감전순이\\n익17,618,662 11,181,471 7,789,043\\n법인세비용(수익) 4,626,640 2,979,168 2,266,823\\n계속영업연결당기순이\\n익12,992,022 8,202,303 5,522,220\\n중단영업당기순이익(손\\n실)(719,721) (218,689) 170,857\\n연결당기순이익 12,272,301 7,983,614 5,693,077\\n당기순이익(손실)의 귀\\n속\\u3000 \\u3000 \\u3000\\n\\u3000지배기업소유주지분 11,961,717 7,364,364 4,942,356\\n\\u3000비지배지분 310,584 619,250 750,721\\n주당이익 \\u3000 \\u3000 \\u3000\\n\\u3000기본주당이익 (단위 :\\n원)\\u3000 \\u3000 \\u3000\\n\\u3000\\u3000보통주기본주당이\\n익(손실) (단위 : 원)45,703 28,521 18,979\\n\\u3000\\u3000계속영업 보통주기\\n본주당이익(손실) (단위\\n: 원)47,622 29,105 18,521\\n\\u3000\\u3000중단영업 보통주기\\n본주당이익(손실) (단위\\n: 원)(1,919) (584) 458\\n전자공시시스템 dart.fss.or.kr Page 67\\n \\n2-3. 연결 포괄손익계산서 \\n\\u3000\\u30001우선주 기본주당\\n이익(손실) (단위 : 원)45,535 28,207 19,002\\n\\u3000\\u3000계속영업 1우선주\\n기본주당이익(손실) (단\\n위 : 원)47,445 28,783 18,545\\n\\u3000\\u3000중단영업 1우선주\\n기본주당이익(손실) (단\\n위 : 원)(1,910) (576) 457\\n\\u3000희석주당이익(손실)\\n(단위 : 원)\\u3000 \\u3000 \\u3000\\n\\u3000\\u3000보통주 희석주당이\\n익 (단위 : 원)45,703 28,521 18,979\\n\\u3000\\u30001우선주 희석주당\\n이익 (단위 : 원)45,535 28,207 19,002\\n※제56기(당기)는 주주총회 승인 전 연결재무제표입니다. 향후 정기주주총회에서 재무제표 승\\n인 관련 안건이 부결되거나 수정이 발생한 경우 정정보고서를 통해 그 내용 및 사유등을 반영\\n할 예정입니다.\\n'"
      ]
     },
     "execution_count": 12,
     "metadata": {},
     "output_type": "execute_result"
    }
   ],
   "source": [
    "reader = PdfReader(\"data/hyundai.pdf\")\n",
    "get_text_of_chapter(reader, \"연결 손익계산서\")"
   ]
  },
  {
   "cell_type": "code",
   "execution_count": 45,
   "metadata": {},
   "outputs": [],
   "source": [
    "desired_table_list = [\"연결 재무상태표\", \"연결 손익계산서\", \"연결 포괄손익계산서\"]\n",
    "table_range = []\n",
    "for table_name in desired_table_list:\n",
    "    this_table_range = title_to_page_index(reader, table_name)\n",
    "    if this_table_range != -1:\n",
    "        table_range.extend([i for i in range(this_table_range[\"page_index\"], this_table_range[\"page_index_of_next_chapter\"] + 1)])\n",
    "desired_page_index = list(set(table_range))\n",
    "desired_page_number = [i + 1 for i in desired_page_index]"
   ]
  },
  {
   "cell_type": "code",
   "execution_count": 46,
   "metadata": {},
   "outputs": [
    {
     "data": {
      "text/plain": [
       "[69, 70, 71, 72, 73]"
      ]
     },
     "execution_count": 46,
     "metadata": {},
     "output_type": "execute_result"
    }
   ],
   "source": [
    "desired_page_number"
   ]
  },
  {
   "cell_type": "code",
   "execution_count": 20,
   "metadata": {},
   "outputs": [
    {
     "data": {
      "text/plain": [
       "[69, 70]"
      ]
     },
     "execution_count": 20,
     "metadata": {},
     "output_type": "execute_result"
    }
   ],
   "source": [
    "[i for i in range(table_range, 71)]"
   ]
  },
  {
   "cell_type": "code",
   "execution_count": 47,
   "metadata": {},
   "outputs": [
    {
     "name": "stdout",
     "output_type": "stream",
     "text": [
      "Data Type :<class 'list'>\n",
      "Data Length: 7\n",
      "\n",
      "Data Index: 0\n",
      "<class 'pandas.core.frame.DataFrame'>\n",
      "  Unnamed: 0       제 56 기      제 55 기      제 54 기\n",
      "0         자산          NaN         NaN         NaN\n",
      "1       유동자산  101,724,717  96,389,273  88,565,366\n",
      "2   현금및현금성자산   19,166,619  20,864,879  12,795,554\n",
      "3     단기금융상품    7,339,968   5,774,597   6,949,333\n",
      "4     기타금융자산    2,802,611   5,934,745  12,396,646\n",
      "\n",
      "Data Index: 1\n",
      "<class 'pandas.core.frame.DataFrame'>\n",
      "        부채  Unnamed: 0  Unnamed: 1  Unnamed: 2\n",
      "0     유동부채  73,362,103  74,236,472  64,236,787\n",
      "1     매입채무  10,952,046  10,797,065   9,155,255\n",
      "2     미지급금   8,642,808   8,277,891   6,335,645\n",
      "3    단기차입금   9,035,548  11,366,480  13,087,836\n",
      "4  유동성장기부채  25,109,158  25,574,131  20,578,902\n",
      "\n",
      "Data Index: 2\n",
      "<class 'pandas.core.frame.DataFrame'>\n",
      "  Unnamed: 0       제 56 기       제 55 기       제 54 기\n",
      "0        매출액  162,663,579  142,151,469  116,448,159\n",
      "1       매출원가  129,179,183  113,879,569   94,721,313\n",
      "2      매출총이익   33,484,396   28,271,900   21,726,846\n",
      "3    판매비와관리비   18,357,495   18,446,972   15,200,325\n",
      "4       영업이익   15,126,901    9,824,928    6,526,521\n",
      "\n",
      "Data Index: 3\n",
      "<class 'pandas.core.frame.DataFrame'>\n",
      "         1우선주 기본주당\\r이익(손실) (단위 : 원)   45,535  28,207  19,002\n",
      "0  계속영업 1우선주\\r기본주당이익(손실) (단\\r위 : 원)   47,445  28,783  18,545\n",
      "1  중단영업 1우선주\\r기본주당이익(손실) (단\\r위 : 원)  (1,910)   (576)     457\n",
      "2              희석주당이익(손실)\\r(단위 : 원)      NaN     NaN     NaN\n",
      "3             보통주 희석주당이\\r익 (단위 : 원)   45,703  28,521  18,979\n",
      "4            1우선주 희석주당\\r이익 (단위 : 원)   45,535  28,207  19,002\n",
      "\n",
      "Data Index: 4\n",
      "<class 'pandas.core.frame.DataFrame'>\n",
      "                    Unnamed: 0      제 56 기     제 55 기     제 54 기\n",
      "0                      연결당기순이익  12,272,301  7,983,614  5,693,077\n",
      "1                       기타포괄손익     156,540  1,050,862  2,168,062\n",
      "2  후속적으로 당기손익\\r으로 재분류되지 않는\\r항목   (412,756)    157,304    376,814\n",
      "3    기타포괄손익-공정\\r가치측정금융자산관련\\r손익      79,056  (223,420)    102,137\n",
      "4              확정급여제도의 재\\r측정요소   (312,128)    391,308    175,392\n",
      "\n",
      "Data Index: 5\n",
      "<class 'pandas.core.frame.DataFrame'>\n",
      "  기타포괄손익-공정\\r가치측정금융자산관련\\r손익      13,884   (36,545)    (6,448)\n",
      "0        현금흐름위험회피\\r파생상품평가손익   (227,671)    218,377      5,015\n",
      "1                   지분법자본변동     328,032     10,008    546,504\n",
      "2                  해외사업환산손익     455,051    701,718  1,246,177\n",
      "3                     총포괄이익  12,428,841  9,034,476  7,861,139\n",
      "4                  포괄손익의 귀속         NaN        NaN        NaN\n",
      "\n",
      "Data Index: 6\n",
      "<class 'pandas.core.frame.DataFrame'>\n",
      "            Unnamed: 0                   자본 Unnamed: 1   Unnamed: 2  \\\n",
      "0                  NaN  지배기업의 소유주에게 귀속되는 지분      비지배지분        자본 합계   \n",
      "1                  NaN                  자본금      자본잉여금       기타자본항목   \n",
      "2  2021.01.01 (기초자본\\r)            1,488,993  4,190,093  (1,700,592)   \n",
      "3                총포괄이익                  NaN        NaN          NaN   \n",
      "4              연결당기순이익                  NaN        NaN          NaN   \n",
      "\n",
      "    Unnamed: 3  Unnamed: 4                Unnamed: 5 Unnamed: 6  Unnamed: 7  \n",
      "0          NaN         NaN                       NaN        NaN         NaN  \n",
      "1    기타포괄손익누계액       이익잉여금  지배기업의 소유주에\\r게 귀속되는 지분 합계        NaN         NaN  \n",
      "2  (3,409,661)  68,911,800                69,480,633  6,860,337  76,340,970  \n",
      "3          NaN         NaN                       NaN        NaN         NaN  \n",
      "4          NaN   4,942,356                 4,942,356    750,721   5,693,077  \n"
     ]
    },
    {
     "name": "stderr",
     "output_type": "stream",
     "text": [
      "c:\\Users\\Owner\\anaconda3\\envs\\pdftorag\\lib\\site-packages\\tabula\\io.py:1057: FutureWarning: errors='ignore' is deprecated and will raise in a future version. Use to_numeric without passing `errors` and catch exceptions explicitly instead\n",
      "  df[c] = pd.to_numeric(df[c], errors=\"ignore\")\n"
     ]
    }
   ],
   "source": [
    "# 삼성 : 80~83\n",
    "# 현대 : 69~73\n",
    "# 한전 : 165~167\n",
    "\n",
    "tabula_result_dfs = tabula.read_pdf(\n",
    "    \"data/hyundai.pdf\",\n",
    "\tpages=desired_page_number,\n",
    "\tstream=True,\n",
    "    lattice=True\n",
    ")\n",
    "print(f\"Data Type :{type(tabula_result_dfs)}\")\n",
    "print(f\"Data Length: {len(tabula_result_dfs)}\")\n",
    "for index, table in enumerate(tabula_result_dfs):\n",
    "    print(f\"\\nData Index: {index}\")\n",
    "    print(type(table))\n",
    "    print(table.head())"
   ]
  },
  {
   "cell_type": "code",
   "execution_count": 12,
   "metadata": {},
   "outputs": [],
   "source": [
    "year_regular_expr = re.compile(\"제 [0-9]+ 기\")\n",
    "columns = []\n",
    "dfs = []\n",
    "for tabula_result_df in tabula_result_dfs[0:6]:\n",
    "    tabula_result_df_columns = [item for item in tabula_result_df.columns]\n",
    "    if year_regular_expr.match(tabula_result_df_columns[-1]):\n",
    "        columns = tabula_result_df_columns\n",
    "        dfs.append(tabula_result_df)\n",
    "    else:\n",
    "        temp_df = pd.DataFrame(tabula_result_df_columns, index = columns).T\n",
    "        dfs[-1] = pd.concat([dfs[-1], temp_df], ignore_index=True)\n",
    "        tabula_result_df.columns = columns\n",
    "        dfs[-1] = pd.concat([dfs[-1], tabula_result_df], ignore_index=True)\n",
    "for df in dfs:\n",
    "    df.iloc[:,0] = df.iloc[:,0].apply(lambda x : x.replace(\"\\r\", \"\") if x is not np.nan else x)"
   ]
  },
  {
   "cell_type": "code",
   "execution_count": 13,
   "metadata": {},
   "outputs": [
    {
     "data": {
      "text/html": [
       "<div>\n",
       "<style scoped>\n",
       "    .dataframe tbody tr th:only-of-type {\n",
       "        vertical-align: middle;\n",
       "    }\n",
       "\n",
       "    .dataframe tbody tr th {\n",
       "        vertical-align: top;\n",
       "    }\n",
       "\n",
       "    .dataframe thead th {\n",
       "        text-align: right;\n",
       "    }\n",
       "</style>\n",
       "<table border=\"1\" class=\"dataframe\">\n",
       "  <thead>\n",
       "    <tr style=\"text-align: right;\">\n",
       "      <th></th>\n",
       "      <th>Unnamed: 0</th>\n",
       "      <th>제 56 기</th>\n",
       "      <th>제 55 기</th>\n",
       "      <th>제 54 기</th>\n",
       "    </tr>\n",
       "  </thead>\n",
       "  <tbody>\n",
       "    <tr>\n",
       "      <th>0</th>\n",
       "      <td>자산</td>\n",
       "      <td>NaN</td>\n",
       "      <td>NaN</td>\n",
       "      <td>NaN</td>\n",
       "    </tr>\n",
       "    <tr>\n",
       "      <th>1</th>\n",
       "      <td>유동자산</td>\n",
       "      <td>101,724,717</td>\n",
       "      <td>96,389,273</td>\n",
       "      <td>88,565,366</td>\n",
       "    </tr>\n",
       "    <tr>\n",
       "      <th>2</th>\n",
       "      <td>현금및현금성자산</td>\n",
       "      <td>19,166,619</td>\n",
       "      <td>20,864,879</td>\n",
       "      <td>12,795,554</td>\n",
       "    </tr>\n",
       "    <tr>\n",
       "      <th>3</th>\n",
       "      <td>단기금융상품</td>\n",
       "      <td>7,339,968</td>\n",
       "      <td>5,774,597</td>\n",
       "      <td>6,949,333</td>\n",
       "    </tr>\n",
       "    <tr>\n",
       "      <th>4</th>\n",
       "      <td>기타금융자산</td>\n",
       "      <td>2,802,611</td>\n",
       "      <td>5,934,745</td>\n",
       "      <td>12,396,646</td>\n",
       "    </tr>\n",
       "    <tr>\n",
       "      <th>...</th>\n",
       "      <td>...</td>\n",
       "      <td>...</td>\n",
       "      <td>...</td>\n",
       "      <td>...</td>\n",
       "    </tr>\n",
       "    <tr>\n",
       "      <th>56</th>\n",
       "      <td>기타포괄손익누계액</td>\n",
       "      <td>(838,892)</td>\n",
       "      <td>(1,620,682)</td>\n",
       "      <td>(1,772,601)</td>\n",
       "    </tr>\n",
       "    <tr>\n",
       "      <th>57</th>\n",
       "      <td>이익잉여금</td>\n",
       "      <td>88,665,805</td>\n",
       "      <td>79,953,601</td>\n",
       "      <td>73,167,855</td>\n",
       "    </tr>\n",
       "    <tr>\n",
       "      <th>58</th>\n",
       "      <td>비지배지분</td>\n",
       "      <td>9,312,129</td>\n",
       "      <td>8,547,258</td>\n",
       "      <td>7,629,667</td>\n",
       "    </tr>\n",
       "    <tr>\n",
       "      <th>59</th>\n",
       "      <td>자본총계</td>\n",
       "      <td>101,809,440</td>\n",
       "      <td>90,896,545</td>\n",
       "      <td>82,615,789</td>\n",
       "    </tr>\n",
       "    <tr>\n",
       "      <th>60</th>\n",
       "      <td>부채와자본총계</td>\n",
       "      <td>282,463,355</td>\n",
       "      <td>255,742,462</td>\n",
       "      <td>233,946,415</td>\n",
       "    </tr>\n",
       "  </tbody>\n",
       "</table>\n",
       "<p>61 rows × 4 columns</p>\n",
       "</div>"
      ],
      "text/plain": [
       "   Unnamed: 0       제 56 기       제 55 기       제 54 기\n",
       "0          자산          NaN          NaN          NaN\n",
       "1        유동자산  101,724,717   96,389,273   88,565,366\n",
       "2    현금및현금성자산   19,166,619   20,864,879   12,795,554\n",
       "3      단기금융상품    7,339,968    5,774,597    6,949,333\n",
       "4      기타금융자산    2,802,611    5,934,745   12,396,646\n",
       "..        ...          ...          ...          ...\n",
       "56  기타포괄손익누계액    (838,892)  (1,620,682)  (1,772,601)\n",
       "57      이익잉여금   88,665,805   79,953,601   73,167,855\n",
       "58      비지배지분    9,312,129    8,547,258    7,629,667\n",
       "59       자본총계  101,809,440   90,896,545   82,615,789\n",
       "60    부채와자본총계  282,463,355  255,742,462  233,946,415\n",
       "\n",
       "[61 rows x 4 columns]"
      ]
     },
     "execution_count": 13,
     "metadata": {},
     "output_type": "execute_result"
    }
   ],
   "source": [
    "dfs[0]"
   ]
  },
  {
   "cell_type": "code",
   "execution_count": 114,
   "metadata": {},
   "outputs": [
    {
     "data": {
      "text/plain": [
       "2"
      ]
     },
     "execution_count": 114,
     "metadata": {},
     "output_type": "execute_result"
    }
   ],
   "source": [
    "len(dfs)"
   ]
  },
  {
   "cell_type": "markdown",
   "metadata": {},
   "source": [
    "### 우선 데이터프레임의 제목이 뭔지 알아야 함.\n",
    "### 그 다음 \\u3000 갯수를 보고 부모 계층을 음... _ (언더바) 로 구분해서 앞에넣기"
   ]
  },
  {
   "cell_type": "code",
   "execution_count": 117,
   "metadata": {},
   "outputs": [
    {
     "name": "stdout",
     "output_type": "stream",
     "text": [
      "0\n",
      "1\n",
      "2\n",
      "edge_ascending : True, edge_thickness : 1, title_string : 후속적으로 당기손익\n",
      "3\n",
      "4\n",
      "edge_ascending : False, edge_thickness : 0, title_string : 후속적으로 당기손익으로 재분류되지 않는항목\n",
      "5\n",
      "edge_ascending : True, edge_thickness : 1, title_string : 기타포괄손익-공정\n",
      "6\n",
      "7\n",
      "edge_ascending : False, edge_thickness : 0, title_string : 기타포괄손익-공정가치측정금융자산관련손익\n",
      "8\n",
      "edge_ascending : True, edge_thickness : 1, title_string : 확정급여제도의 재\n",
      "9\n"
     ]
    },
    {
     "ename": "TypeError",
     "evalue": "sequence item 1: expected str instance, float found",
     "output_type": "error",
     "traceback": [
      "\u001b[1;31m---------------------------------------------------------------------------\u001b[0m",
      "\u001b[1;31mTypeError\u001b[0m                                 Traceback (most recent call last)",
      "Cell \u001b[1;32mIn[117], line 23\u001b[0m\n\u001b[0;32m     21\u001b[0m     \u001b[38;5;28;01mif\u001b[39;00m edge_thickness \u001b[38;5;241m>\u001b[39m \u001b[38;5;241m0\u001b[39m:\n\u001b[0;32m     22\u001b[0m         edge_ascending \u001b[38;5;241m=\u001b[39m \u001b[38;5;28;01mFalse\u001b[39;00m\n\u001b[1;32m---> 23\u001b[0m     title_string \u001b[38;5;241m=\u001b[39m \u001b[38;5;124;43m\"\u001b[39;49m\u001b[38;5;124;43m\"\u001b[39;49m\u001b[38;5;241;43m.\u001b[39;49m\u001b[43mjoin\u001b[49m\u001b[43m(\u001b[49m\u001b[43m[\u001b[49m\u001b[43mtitle_string\u001b[49m\u001b[43m,\u001b[49m\u001b[43m \u001b[49m\u001b[43mrow_title\u001b[49m\u001b[43m]\u001b[49m\u001b[43m)\u001b[49m\n\u001b[0;32m     24\u001b[0m     contents \u001b[38;5;241m=\u001b[39m row_values\n\u001b[0;32m     25\u001b[0m \u001b[38;5;28;01mif\u001b[39;00m edge_thickness \u001b[38;5;241m==\u001b[39m \u001b[38;5;241m0\u001b[39m:\n",
      "\u001b[1;31mTypeError\u001b[0m: sequence item 1: expected str instance, float found"
     ]
    }
   ],
   "source": [
    "\"\"\" ㅋㅋㅋ lattice = True 주니까 이거 할 필요 없어졌음\n",
    "title_string = \"\"\n",
    "edge_thickness = 0\n",
    "edge_ascending = True\n",
    "new_df = []\n",
    "new_row = []\n",
    "for idx, row in dfs[1].iterrows():\n",
    "    print(idx)\n",
    "    row_values = dfs[1].iloc[idx, 1:]\n",
    "    row_title = dfs[1].iat[idx, 0]\n",
    "    if row_values.isnull().sum() == len(row_values):\n",
    "        if edge_ascending == True:\n",
    "            edge_thickness += 1\n",
    "            title_string = \"\".join([title_string, row_title])\n",
    "            print(f\"edge_ascending : {edge_ascending}, edge_thickness : {edge_thickness}, title_string : {title_string}\")\n",
    "        else:\n",
    "            edge_thickness -= 1\n",
    "            title_string = \"\".join([title_string, row_title])\n",
    "            print(f\"edge_ascending : {edge_ascending}, edge_thickness : {edge_thickness}, title_string : {title_string}\")\n",
    "        #print(dfs[1].iat[idx,0], \"All Null\")\n",
    "    else:                                   # Null이 아닌 값이 채워져 있으면\n",
    "        if edge_thickness > 0:\n",
    "            edge_ascending = False\n",
    "        title_string = \"\".join([title_string, row_title])\n",
    "        contents = row_values\n",
    "    if edge_thickness == 0:\n",
    "        new_row.append(title_string)\n",
    "        new_row.extend(contents.values)\n",
    "        new_row = pd.Series(new_row, index = row.index)\n",
    "        new_df.append(new_row)\n",
    "        new_row = []\n",
    "        edge_ascending = True\n",
    "        title_string = \"\"\n",
    "        #print(dfs[1].iat[idx,0], \"values\")\n",
    "\"\"\""
   ]
  },
  {
   "cell_type": "markdown",
   "metadata": {},
   "source": [
    "#### trim돼서 계층을 알 수 없으니, pypdf로 나온 값을 참고해서, 맨 왼쪽꺼는 \\n 다음에 \\u3000이 몇번 나왔는지로 계층을 판단하자.\n",
    "#### 그리고 현대꺼 줄바꿈 주의.."
   ]
  }
 ],
 "metadata": {
  "kernelspec": {
   "display_name": "conversation",
   "language": "python",
   "name": "python3"
  },
  "language_info": {
   "codemirror_mode": {
    "name": "ipython",
    "version": 3
   },
   "file_extension": ".py",
   "mimetype": "text/x-python",
   "name": "python",
   "nbconvert_exporter": "python",
   "pygments_lexer": "ipython3",
   "version": "3.10.14"
  }
 },
 "nbformat": 4,
 "nbformat_minor": 2
}
