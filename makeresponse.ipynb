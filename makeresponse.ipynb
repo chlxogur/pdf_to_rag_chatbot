{
 "cells": [
  {
   "cell_type": "code",
   "execution_count": 39,
   "metadata": {},
   "outputs": [],
   "source": [
    "from langchain_chroma import Chroma\n",
    "from langchain_openai import OpenAIEmbeddings\n",
    "from langchain_openai import ChatOpenAI\n",
    "from langchain.prompts import ChatPromptTemplate\n",
    "from langchain_core.output_parsers import StrOutputParser"
   ]
  },
  {
   "cell_type": "code",
   "execution_count": 2,
   "metadata": {},
   "outputs": [],
   "source": [
    "text_embedding_model = OpenAIEmbeddings()\n",
    "db = Chroma(\n",
    "    collection_name=\"saup\",\n",
    "    persist_directory=\"data/output/chromadb\",\n",
    "    embedding_function=text_embedding_model\n",
    ")"
   ]
  },
  {
   "cell_type": "code",
   "execution_count": 67,
   "metadata": {},
   "outputs": [
    {
     "name": "stdout",
     "output_type": "stream",
     "text": [
      "{\"매입채무및기타채무_0\": {\"Year\": \"2023\", \"Value\": {\"Samsung\": \"-\", \"Hyundai\": \"-\", \"Kepco\": 9089973, \"Sum\": 9089973, \"Avg\": 9089973.0}, \"Ancestors\": [\"부채\", \"유동부채\"]}}\n",
      "{\"충당부채_1\": {\"Year\": \"2023\", \"Value\": {\"Samsung\": 6524876, \"Hyundai\": 7316877, \"Kepco\": \"-\", \"Sum\": 13841753, \"Avg\": 6920876.5}, \"Ancestors\": [\"부채\", \"유동부채\"]}}\n",
      "{\"총포괄손익(*3)_0\": {\"Year\": \"2023\", \"Value\": {\"Samsung\": 18837411, \"Hyundai\": \"-\", \"Kepco\": \"-\", \"Sum\": 18837411, \"Avg\": 18837411.0}, \"Ancestors\": []}}\n",
      "{\"매입채무_0\": {\"Year\": \"2023\", \"Value\": {\"Samsung\": 11319824, \"Hyundai\": 10952046, \"Kepco\": \"-\", \"Sum\": 22271870, \"Avg\": 11135935.0}, \"Ancestors\": [\"부채\", \"유동부채\"]}}\n",
      "{\"충당부채_3\": {\"Year\": \"2022\", \"Value\": {\"Samsung\": 5844907, \"Hyundai\": 8102596, \"Kepco\": \"-\", \"Sum\": 13947503, \"Avg\": 6973751.5}, \"Ancestors\": [\"부채\", \"유동부채\"]}}\n",
      "{\"자본과부채총계_0\": {\"Year\": \"2023\", \"Value\": {\"Samsung\": 455905980, \"Hyundai\": \"-\", \"Kepco\": 239714965, \"Sum\": 695620945, \"Avg\": 347810472.5}, \"Ancestors\": []}}\n",
      "{\"매출채권_0\": {\"Year\": \"2023\", \"Value\": {\"Samsung\": 36647393, \"Hyundai\": 4682182, \"Kepco\": \"-\", \"Sum\": 41329575, \"Avg\": 20664787.5}, \"Ancestors\": [\"자산\", \"유동자산\"]}}\n",
      "{\"장기매출채권및기타채권_0\": {\"Year\": \"2023\", \"Value\": {\"Samsung\": \"-\", \"Hyundai\": \"-\", \"Kepco\": 2193587, \"Sum\": 2193587, \"Avg\": 2193587.0}, \"Ancestors\": [\"자산\", \"비유동자산\"]}}\n",
      "{\"유동성장기부채_0\": {\"Year\": \"2023\", \"Value\": {\"Samsung\": 1308875, \"Hyundai\": 25109158, \"Kepco\": \"-\", \"Sum\": 26418033, \"Avg\": 13209016.5}, \"Ancestors\": [\"부채\", \"유동부채\"]}}\n",
      "{\"총포괄이익_0\": {\"Year\": \"2023\", \"Value\": {\"Samsung\": \"-\", \"Hyundai\": 12428841, \"Kepco\": \"-\", \"Sum\": 12428841, \"Avg\": 12428841.0}, \"Ancestors\": []}}\n",
      "{\"지배기업 소유주지분_0\": {\"Year\": \"2023\", \"Value\": {\"Samsung\": 353233775, \"Hyundai\": \"-\", \"Kepco\": \"-\", \"Sum\": 353233775, \"Avg\": 353233775.0}, \"Ancestors\": [\"자본\"]}}\n",
      "{\"기타채권_0\": {\"Year\": \"2023\", \"Value\": {\"Samsung\": \"-\", \"Hyundai\": 855015, \"Kepco\": \"-\", \"Sum\": 855015, \"Avg\": 855015.0}, \"Ancestors\": [\"자산\", \"비유동자산\"]}}\n",
      "{\"지배기업의 소유주에게 귀속되는 자본_0\": {\"Year\": \"2023\", \"Value\": {\"Samsung\": \"-\", \"Hyundai\": \"-\", \"Kepco\": 35845043, \"Sum\": 35845043, \"Avg\": 35845043.0}, \"Ancestors\": [\"자본\"]}}\n",
      "{\"충당부채_0\": {\"Year\": \"2023\", \"Value\": {\"Samsung\": \"-\", \"Hyundai\": 4333841, \"Kepco\": \"-\", \"Sum\": 4333841, \"Avg\": 4333841.0}, \"Ancestors\": [\"부채\", \"비유동부채\"]}}\n",
      "{\"기타채권_3\": {\"Year\": \"2022\", \"Value\": {\"Samsung\": \"-\", \"Hyundai\": 4458689, \"Kepco\": \"-\", \"Sum\": 4458689, \"Avg\": 4458689.0}, \"Ancestors\": [\"자산\", \"유동자산\"]}}\n",
      "{\"기타채권_1\": {\"Year\": \"2023\", \"Value\": {\"Samsung\": \"-\", \"Hyundai\": 3431169, \"Kepco\": \"-\", \"Sum\": 3431169, \"Avg\": 3431169.0}, \"Ancestors\": [\"자산\", \"유동자산\"]}}\n",
      "{\"매출채권및기타채권_0\": {\"Year\": \"2023\", \"Value\": {\"Samsung\": \"-\", \"Hyundai\": \"-\", \"Kepco\": 11985735, \"Sum\": 11985735, \"Avg\": 11985735.0}, \"Ancestors\": [\"자산\", \"유동자산\"]}}\n",
      "{\"사채_0\": {\"Year\": \"2023\", \"Value\": {\"Samsung\": 537618, \"Hyundai\": 73033493, \"Kepco\": \"-\", \"Sum\": 73571111, \"Avg\": 36785555.5}, \"Ancestors\": [\"부채\", \"비유동부채\"]}}\n",
      "{\"부채와자본총계_0\": {\"Year\": \"2023\", \"Value\": {\"Samsung\": \"-\", \"Hyundai\": 282463355, \"Kepco\": \"-\", \"Sum\": 282463355, \"Avg\": 282463355.0}, \"Ancestors\": []}}\n",
      "{\"지배기업소유주지분_0\": {\"Year\": \"2023\", \"Value\": {\"Samsung\": \"-\", \"Hyundai\": 92497311, \"Kepco\": \"-\", \"Sum\": 92497311, \"Avg\": 92497311.0}, \"Ancestors\": [\"자본\"]}}\n"
     ]
    }
   ],
   "source": [
    "query = \"2023년 삼성, 현대, 한전 기타채권의 합\"\n",
    "retriever = db.as_retriever(\n",
    "    search_type = \"similarity_score_threshold\",\n",
    "    search_kwargs={\"k\": 20, \"score_threshold\":0.8}\n",
    ")\n",
    "docs = retriever.invoke(query)\n",
    "for doc in docs:\n",
    "    print(doc.page_content)"
   ]
  },
  {
   "cell_type": "code",
   "execution_count": 40,
   "metadata": {},
   "outputs": [],
   "source": [
    "def format_docs(docs):\n",
    "    return \"\\n\\n\".join(doc.page_content for doc in docs)"
   ]
  },
  {
   "cell_type": "code",
   "execution_count": 62,
   "metadata": {},
   "outputs": [],
   "source": [
    "template =\"\"\"\n",
    "    주어진 context 안에서만 대답하고, 절대 임의로 답변을 생성하지 마세요.\n",
    "    {context}\n",
    "    단위는 백만원이므로 1원 단위로 바꿔서 대답해 주세요.\n",
    "    Ancestors가 다른 문서가 있으면 Ancestors 별로 구분해서 답변해 주세요.\n",
    "    \n",
    "Question : {question}\n",
    "\"\"\""
   ]
  },
  {
   "cell_type": "code",
   "execution_count": 63,
   "metadata": {},
   "outputs": [
    {
     "name": "stdout",
     "output_type": "stream",
     "text": [
      "2023년 삼성, 현대, 한전 기타채권의 합은 다음과 같습니다.\n",
      "\n",
      "- 삼성: 0 백만원\n",
      "- 현대: 3,431,169 백만원\n",
      "- 한전: 0 백만원\n",
      "\n",
      "합계: 3,431,169 백만원\n",
      "\n",
      "따라서, 2023년 삼성, 현대, 한전 기타채권의 합은 3,431,169 백만원입니다.\n"
     ]
    }
   ],
   "source": [
    "prompt = ChatPromptTemplate.from_template(template)\n",
    "\n",
    "llm = ChatOpenAI(\n",
    "    model=\"gpt-4o-mini\",\n",
    "    temperature=0.1,\n",
    "    max_tokens=500\n",
    ")\n",
    "\n",
    "chain = prompt | llm | StrOutputParser()\n",
    "\n",
    "response = chain.invoke({\"context\":(format_docs(docs)), \"question\":query})\n",
    "print(response)"
   ]
  }
 ],
 "metadata": {
  "kernelspec": {
   "display_name": "pdftorag",
   "language": "python",
   "name": "python3"
  },
  "language_info": {
   "codemirror_mode": {
    "name": "ipython",
    "version": 3
   },
   "file_extension": ".py",
   "mimetype": "text/x-python",
   "name": "python",
   "nbconvert_exporter": "python",
   "pygments_lexer": "ipython3",
   "version": "3.10.14"
  }
 },
 "nbformat": 4,
 "nbformat_minor": 2
}
