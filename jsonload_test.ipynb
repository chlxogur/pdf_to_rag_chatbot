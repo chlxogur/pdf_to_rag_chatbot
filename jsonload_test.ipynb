{
 "cells": [
  {
   "cell_type": "code",
   "execution_count": null,
   "metadata": {},
   "outputs": [],
   "source": [
    "from langchain_text_splitters import RecursiveJsonSplitter\n",
    "import json\n",
    "import numpy as np"
   ]
  },
  {
   "cell_type": "code",
   "execution_count": 24,
   "metadata": {},
   "outputs": [],
   "source": [
    "with open(\"data/output/사업계획서자손.json\", \"r\", encoding=\"UTF-8\") as fp:\n",
    "    text= fp.read()\n",
    "    \n",
    "json_data = json.loads(text)\n",
    "\n",
    "splitter = RecursiveJsonSplitter(max_chunk_size=300)\n",
    "docs = splitter.create_documents(texts=[json_data], ensure_ascii=False)\n",
    "#docs = splitter.split_json(json_data=json_data)"
   ]
  },
  {
   "cell_type": "code",
   "execution_count": 13,
   "metadata": {},
   "outputs": [
    {
     "data": {
      "text/plain": [
       "[Document(page_content='{\"2023\": {\"자본\": {\"자본총계\": {\"Value\": {\"Samsung\": 363677865, \"Hyundai\": 101809440, \"Kepco\": 37264750, \"Sum\": 502752055, \"Avg\": 167584018.33333334}}}}}'),\n",
       " Document(page_content='{\"2023\": {\"자본\": {\"지배기업 소유주지분\": {\"Value\": {\"Samsung\": 353233775, \"Hyundai\": \"-\", \"Kepco\": \"-\", \"Sum\": 353233775, \"Avg\": 353233775.0}}}}}'),\n",
       " Document(page_content='{\"2023\": {\"자본\": {\"지배기업 소유주지분\": {\"기타자본항목\": {\"Value\": {\"Samsung\": 1280130, \"Hyundai\": \"-\", \"Kepco\": \"-\", \"Sum\": 1280130, \"Avg\": 1280130.0}}}}}}'),\n",
       " Document(page_content='{\"2023\": {\"자본\": {\"지배기업 소유주지분\": {\"이익잉여금\": {\"Value\": {\"Samsung\": 346652238, \"Hyundai\": \"-\", \"Kepco\": \"-\", \"Sum\": 346652238, \"Avg\": 346652238.0}}}}}}'),\n",
       " Document(page_content='{\"2023\": {\"자본\": {\"지배기업 소유주지분\": {\"자본금\": {\"Value\": {\"Samsung\": 897514, \"Hyundai\": \"-\", \"Kepco\": \"-\", \"Sum\": 897514, \"Avg\": 897514.0}}}}}}'),\n",
       " Document(page_content='{\"2023\": {\"자본\": {\"지배기업 소유주지분\": {\"자본금\": {\"보통주자본금\": {\"Value\": {\"Samsung\": 778047, \"Hyundai\": \"-\", \"Kepco\": \"-\", \"Sum\": 778047, \"Avg\": 778047.0}}}}}}}'),\n",
       " Document(page_content='{\"2023\": {\"자본\": {\"지배기업 소유주지분\": {\"자본금\": {\"우선주자본금\": {\"Value\": {\"Samsung\": 119467, \"Hyundai\": \"-\", \"Kepco\": \"-\", \"Sum\": 119467, \"Avg\": 119467.0}}}}}}}'),\n",
       " Document(page_content='{\"2023\": {\"자본\": {\"지배기업 소유주지분\": {\"주식발행초과금\": {\"Value\": {\"Samsung\": 4403893, \"Hyundai\": \"-\", \"Kepco\": \"-\", \"Sum\": 4403893, \"Avg\": 4403893.0}}}}}}'),\n",
       " Document(page_content='{\"2023\": {\"자본\": {\"지배기업소유주지분\": {\"Value\": {\"Samsung\": \"-\", \"Hyundai\": 92497311, \"Kepco\": \"-\", \"Sum\": 92497311, \"Avg\": 92497311.0}}}}}'),\n",
       " Document(page_content='{\"2023\": {\"자본\": {\"지배기업소유주지분\": {\"기타자본항목\": {\"Value\": {\"Samsung\": \"-\", \"Hyundai\": -1197084, \"Kepco\": \"-\", \"Sum\": -1197084, \"Avg\": -1197084.0}}}}}}')]"
      ]
     },
     "execution_count": 13,
     "metadata": {},
     "output_type": "execute_result"
    }
   ],
   "source": [
    "docs[40:50]"
   ]
  },
  {
   "cell_type": "code",
   "execution_count": 16,
   "metadata": {},
   "outputs": [
    {
     "data": {
      "text/plain": [
       "str"
      ]
     },
     "execution_count": 16,
     "metadata": {},
     "output_type": "execute_result"
    }
   ],
   "source": [
    "type(docs[0].page_content)"
   ]
  },
  {
   "cell_type": "code",
   "execution_count": 18,
   "metadata": {},
   "outputs": [],
   "source": [
    "doc_texts = []\n",
    "for idx in range(len(docs)):\n",
    "    doc_texts.append(docs[idx].page_content)"
   ]
  },
  {
   "cell_type": "code",
   "execution_count": 19,
   "metadata": {},
   "outputs": [
    {
     "data": {
      "text/plain": [
       "'{\"2023\": {\"부채\": {\"Value\": {\"Samsung\": \"-\", \"Hyundai\": \"-\", \"Kepco\": \"-\", \"Sum\": \"-\", \"Avg\": \"-\"}, \"부채총계\": {\"Value\": {\"Samsung\": 92228115, \"Hyundai\": 180653915, \"Kepco\": 202450215, \"Sum\": 475332245, \"Avg\": 158444081.66666666}}}}}'"
      ]
     },
     "execution_count": 19,
     "metadata": {},
     "output_type": "execute_result"
    }
   ],
   "source": [
    "doc_texts[0]"
   ]
  },
  {
   "cell_type": "code",
   "execution_count": 20,
   "metadata": {},
   "outputs": [],
   "source": [
    "from langchain_openai import OpenAIEmbeddings\n",
    "text_embedding_model = OpenAIEmbeddings()\n",
    "\n",
    "embedded_texts = text_embedding_model.embed_documents(doc_texts)"
   ]
  },
  {
   "cell_type": "code",
   "execution_count": 25,
   "metadata": {},
   "outputs": [],
   "source": [
    "embedded_query = text_embedding_model.embed_query(\"기타자본항목\")\n",
    "embedded_query_np = np.array(embedded_query)\n",
    "embedded_query_reshaped = embedded_query_np.reshape(1, -1)"
   ]
  },
  {
   "cell_type": "code",
   "execution_count": 28,
   "metadata": {},
   "outputs": [],
   "source": [
    "from langchain_community.vectorstores import Chroma\n",
    "db = Chroma.from_texts(\n",
    "    doc_texts,\n",
    "    text_embedding_model,\n",
    "    collection_name = \"saup\",\n",
    "    persist_directory = \"data/output/chromadb\",\n",
    "    collection_metadata = {\"hnsw:space\":\"cosine\"}       # 이거 뭘까 공부할 필요가 있음\n",
    ")"
   ]
  },
  {
   "cell_type": "code",
   "execution_count": 37,
   "metadata": {},
   "outputs": [
    {
     "name": "stdout",
     "output_type": "stream",
     "text": [
      "{\"2023\": {\"영업이익\": {\"Value\": {\"Samsung\": 6566976, \"Hyundai\": 15126901, \"Sum\": 21693877, \"Avg\": 10846938.5}}}}\n",
      "{\"2021\": {\"주당이익\": {\"기본주당이익\": {\"중단영업 보통주기본주당이익(손실)\": {\"Value\": {\"Samsung\": \"-\", \"Hyundai\": 0.000458, \"Sum\": 0.000458, \"Avg\": 0.000458}}}}}}\n",
      "{\"2022\": {\"자본\": {\"지배기업의 소유주에게 귀속되는 자본\": {\"이익잉여금(결손금)\": {\"미처분이익잉여금(미처리결손금)\": {\"Value\": {\"Samsung\": \"-\", \"Hyundai\": \"-\", \"Kepco\": -7956579, \"Sum\": -7956579, \"Avg\": -7956579.0}}}}}}}\n",
      "{\"2023\": {\"관계기업,공동기업,종속기업 관련이익(손실)\": {\"관계기업 및 공동기업 투자지분 평가이익\": {\"Value\": {\"Samsung\": \"-\", \"Hyundai\": \"-\", \"Kepco\": 804141, \"Sum\": 804141, \"Avg\": 804141.0}}}}}\n",
      "{\"2022\": {\"영업이익(손실)\": {\"Value\": {\"Samsung\": \"-\", \"Hyundai\": \"-\", \"Kepco\": -32655153, \"Sum\": -32655153, \"Avg\": -32655153.0}}}}\n"
     ]
    }
   ],
   "source": [
    "query = \"영업이익\"\n",
    "retriever = db.as_retriever(\n",
    "    search_type = \"mmr\",\n",
    "    search_kwargs={\"k\":5, \"fetch_k\":50}\n",
    ")\n",
    "docs = retriever.get_relevant_documents(query)\n",
    "for doc in docs:\n",
    "    print(doc.page_content)"
   ]
  },
  {
   "cell_type": "markdown",
   "metadata": {},
   "source": [
    "### 일단 잘 안나온다... 구조를 바꿀 필요가 있어 보인다.\n",
    "### 제일 먼저 드는 생각은 최하위 이름을 앞으로 내밀고 상위계층의 이름을 원소로 만들어 리스트 형식으로 나열하는건 어떨까"
   ]
  }
 ],
 "metadata": {
  "kernelspec": {
   "display_name": "pdftorag",
   "language": "python",
   "name": "python3"
  },
  "language_info": {
   "codemirror_mode": {
    "name": "ipython",
    "version": 3
   },
   "file_extension": ".py",
   "mimetype": "text/x-python",
   "name": "python",
   "nbconvert_exporter": "python",
   "pygments_lexer": "ipython3",
   "version": "3.10.14"
  }
 },
 "nbformat": 4,
 "nbformat_minor": 2
}
