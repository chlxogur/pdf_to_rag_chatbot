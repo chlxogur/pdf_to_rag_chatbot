{
 "cells": [
  {
   "cell_type": "code",
   "execution_count": 1,
   "metadata": {},
   "outputs": [],
   "source": [
    "from langchain_text_splitters import RecursiveJsonSplitter\n",
    "from langchain_chroma import Chroma\n",
    "from langchain_openai import OpenAIEmbeddings\n",
    "import json\n",
    "import numpy as np\n",
    "from config import OUTPUT_PATH\n",
    "from dotenv import load_dotenv"
   ]
  },
  {
   "cell_type": "code",
   "execution_count": 2,
   "metadata": {},
   "outputs": [
    {
     "data": {
      "text/plain": [
       "True"
      ]
     },
     "execution_count": 2,
     "metadata": {},
     "output_type": "execute_result"
    }
   ],
   "source": [
    "load_dotenv()"
   ]
  },
  {
   "cell_type": "code",
   "execution_count": 4,
   "metadata": {},
   "outputs": [],
   "source": [
    "with open(\"../\" + OUTPUT_PATH + f\"사업계획서자손2.json\", \"r\", encoding=\"UTF-8\") as fp:\n",
    "    text= fp.read()\n",
    "    \n",
    "json_data = json.loads(text)\n",
    "\n",
    "splitter = RecursiveJsonSplitter(max_chunk_size=400)\n",
    "docs = splitter.create_documents(texts=[json_data], ensure_ascii=False)\n",
    "#docs = splitter.split_json(json_data=json_data)"
   ]
  },
  {
   "cell_type": "code",
   "execution_count": 5,
   "metadata": {},
   "outputs": [
    {
     "data": {
      "text/plain": [
       "613"
      ]
     },
     "execution_count": 5,
     "metadata": {},
     "output_type": "execute_result"
    }
   ],
   "source": [
    "len(docs)"
   ]
  },
  {
   "cell_type": "code",
   "execution_count": 6,
   "metadata": {},
   "outputs": [
    {
     "data": {
      "text/plain": [
       "[Document(page_content='{\"자본금_0\": {\"Year\": \"2023\", \"Value\": {\"Samsung\": 897514, \"Hyundai\": \"-\", \"Kepco\": \"-\", \"Sum\": 897514, \"Avg\": 897514.0}, \"Ancestors\": [\"자본\", \"지배기업 소유주지분\"]}}'),\n",
       " Document(page_content='{\"보통주자본금_0\": {\"Year\": \"2023\", \"Value\": {\"Samsung\": 778047, \"Hyundai\": \"-\", \"Kepco\": \"-\", \"Sum\": 778047, \"Avg\": 778047.0}, \"Ancestors\": [\"자본\", \"지배기업 소유주지분\", \"자본금\"]}}'),\n",
       " Document(page_content='{\"우선주자본금_0\": {\"Year\": \"2023\", \"Value\": {\"Samsung\": 119467, \"Hyundai\": \"-\", \"Kepco\": \"-\", \"Sum\": 119467, \"Avg\": 119467.0}, \"Ancestors\": [\"자본\", \"지배기업 소유주지분\", \"자본금\"]}}'),\n",
       " Document(page_content='{\"주식발행초과금_0\": {\"Year\": \"2023\", \"Value\": {\"Samsung\": 4403893, \"Hyundai\": \"-\", \"Kepco\": \"-\", \"Sum\": 4403893, \"Avg\": 4403893.0}, \"Ancestors\": [\"자본\", \"지배기업 소유주지분\"]}}'),\n",
       " Document(page_content='{\"지배기업소유주지분_0\": {\"Year\": \"2023\", \"Value\": {\"Samsung\": \"-\", \"Hyundai\": 92497311, \"Kepco\": \"-\", \"Sum\": 92497311, \"Avg\": 92497311.0}, \"Ancestors\": [\"자본\"]}}'),\n",
       " Document(page_content='{\"기타자본항목_1\": {\"Year\": \"2023\", \"Value\": {\"Samsung\": \"-\", \"Hyundai\": -1197084, \"Kepco\": \"-\", \"Sum\": -1197084, \"Avg\": -1197084.0}, \"Ancestors\": [\"자본\", \"지배기업소유주지분\"]}}'),\n",
       " Document(page_content='{\"기타포괄손익누계액_0\": {\"Year\": \"2023\", \"Value\": {\"Samsung\": \"-\", \"Hyundai\": -838892, \"Kepco\": \"-\", \"Sum\": -838892, \"Avg\": -838892.0}, \"Ancestors\": [\"자본\", \"지배기업소유주지분\"]}}'),\n",
       " Document(page_content='{\"이익잉여금_1\": {\"Year\": \"2023\", \"Value\": {\"Samsung\": \"-\", \"Hyundai\": 88665805, \"Kepco\": \"-\", \"Sum\": 88665805, \"Avg\": 88665805.0}, \"Ancestors\": [\"자본\", \"지배기업소유주지분\"]}}'),\n",
       " Document(page_content='{\"자본금_1\": {\"Year\": \"2023\", \"Value\": {\"Samsung\": \"-\", \"Hyundai\": 1488993, \"Kepco\": \"-\", \"Sum\": 1488993, \"Avg\": 1488993.0}, \"Ancestors\": [\"자본\", \"지배기업소유주지분\"]}}'),\n",
       " Document(page_content='{\"자본잉여금_0\": {\"Year\": \"2023\", \"Value\": {\"Samsung\": \"-\", \"Hyundai\": 4378489, \"Kepco\": \"-\", \"Sum\": 4378489, \"Avg\": 4378489.0}, \"Ancestors\": [\"자본\", \"지배기업소유주지분\"]}}')]"
      ]
     },
     "execution_count": 6,
     "metadata": {},
     "output_type": "execute_result"
    }
   ],
   "source": [
    "docs[40:50]"
   ]
  },
  {
   "cell_type": "code",
   "execution_count": 16,
   "metadata": {},
   "outputs": [
    {
     "data": {
      "text/plain": [
       "langchain_core.documents.base.Document"
      ]
     },
     "execution_count": 16,
     "metadata": {},
     "output_type": "execute_result"
    }
   ],
   "source": [
    "type(docs[40])"
   ]
  },
  {
   "cell_type": "code",
   "execution_count": 61,
   "metadata": {},
   "outputs": [
    {
     "name": "stdout",
     "output_type": "stream",
     "text": [
      "169\n",
      "page_content='{\"부채총계_2\": {\"Year\": \"2021\", \"Value\": {\"Samsung\": 121721227, \"Hyundai\": 151330626, \"Kepco\": 145797021, \"Sum\": 418848874, \"Avg\": 139616291.33333334}, \"Ancestors\": [\"부채\"]}}'\n"
     ]
    }
   ],
   "source": [
    "max = 0\n",
    "max_doc = \"\"\n",
    "for doc in docs:\n",
    "    if max < len(doc.page_content):\n",
    "        max = len(doc.page_content)\n",
    "        max_doc = doc\n",
    "print(max)\n",
    "print(max_doc)"
   ]
  },
  {
   "cell_type": "code",
   "execution_count": 5,
   "metadata": {},
   "outputs": [],
   "source": [
    "doc_texts = []\n",
    "for idx in range(len(docs)):\n",
    "    doc_texts.append(docs[idx].page_content)"
   ]
  },
  {
   "cell_type": "code",
   "execution_count": 26,
   "metadata": {},
   "outputs": [
    {
     "ename": "NameError",
     "evalue": "name 'doc_texts' is not defined",
     "output_type": "error",
     "traceback": [
      "\u001b[1;31m---------------------------------------------------------------------------\u001b[0m",
      "\u001b[1;31mNameError\u001b[0m                                 Traceback (most recent call last)",
      "Cell \u001b[1;32mIn[26], line 1\u001b[0m\n\u001b[1;32m----> 1\u001b[0m \u001b[43mdoc_texts\u001b[49m[\u001b[38;5;241m40\u001b[39m]\n",
      "\u001b[1;31mNameError\u001b[0m: name 'doc_texts' is not defined"
     ]
    }
   ],
   "source": [
    "doc_texts[40]"
   ]
  },
  {
   "cell_type": "code",
   "execution_count": 4,
   "metadata": {},
   "outputs": [],
   "source": [
    "\n",
    "text_embedding_model = OpenAIEmbeddings()\n",
    "\n",
    "#embedded_texts = text_embedding_model.embed_documents(doc_texts)\n"
   ]
  },
  {
   "cell_type": "code",
   "execution_count": 5,
   "metadata": {},
   "outputs": [],
   "source": [
    "\n",
    "db = Chroma.from_documents(\n",
    "    docs,\n",
    "    text_embedding_model,\n",
    "    collection_name = \"saup\",\n",
    "    persist_directory = \"../\" + OUTPUT_PATH + \"chromadb\",\n",
    "    collection_metadata = {\"hnsw:space\":\"cosine\"}       # 이거 뭘까 공부할 필요가 있음\n",
    ")"
   ]
  },
  {
   "cell_type": "code",
   "execution_count": 2,
   "metadata": {},
   "outputs": [
    {
     "ename": "NameError",
     "evalue": "name 'db' is not defined",
     "output_type": "error",
     "traceback": [
      "\u001b[1;31m---------------------------------------------------------------------------\u001b[0m",
      "\u001b[1;31mNameError\u001b[0m                                 Traceback (most recent call last)",
      "Cell \u001b[1;32mIn[2], line 2\u001b[0m\n\u001b[0;32m      1\u001b[0m query \u001b[38;5;241m=\u001b[39m \u001b[38;5;124m\"\u001b[39m\u001b[38;5;124m삼성전자의 재고자산 알려줘.\u001b[39m\u001b[38;5;124m\"\u001b[39m\n\u001b[1;32m----> 2\u001b[0m retriever \u001b[38;5;241m=\u001b[39m \u001b[43mdb\u001b[49m\u001b[38;5;241m.\u001b[39mas_retriever(\n\u001b[0;32m      3\u001b[0m     search_type \u001b[38;5;241m=\u001b[39m \u001b[38;5;124m\"\u001b[39m\u001b[38;5;124msimilarity\u001b[39m\u001b[38;5;124m\"\u001b[39m,\n\u001b[0;32m      4\u001b[0m     search_kwargs\u001b[38;5;241m=\u001b[39m{\u001b[38;5;124m\"\u001b[39m\u001b[38;5;124mk\u001b[39m\u001b[38;5;124m\"\u001b[39m:\u001b[38;5;241m20\u001b[39m}\n\u001b[0;32m      5\u001b[0m )\n\u001b[0;32m      6\u001b[0m docs \u001b[38;5;241m=\u001b[39m retriever\u001b[38;5;241m.\u001b[39minvoke(query)\n\u001b[0;32m      7\u001b[0m \u001b[38;5;28;01mfor\u001b[39;00m doc \u001b[38;5;129;01min\u001b[39;00m docs:\n",
      "\u001b[1;31mNameError\u001b[0m: name 'db' is not defined"
     ]
    }
   ],
   "source": [
    "query = \"비지배지분\"\n",
    "retriever = db.as_retriever(\n",
    "    search_type = \"similarity\",\n",
    "    search_kwargs={\"k\":20}\n",
    ")\n",
    "docs = retriever.invoke(query)\n",
    "for doc in docs:\n",
    "    print(doc.page_content)"
   ]
  },
  {
   "cell_type": "code",
   "execution_count": 56,
   "metadata": {},
   "outputs": [],
   "source": [
    "import tiktoken\n",
    "\n",
    "tokenizer = tiktoken.get_encoding(\"cl100k_base\")\n",
    "\n",
    "def tiktoken_len(text):\n",
    "    tokens = tokenizer.encode(text)\n",
    "    return len(tokens)"
   ]
  }
 ],
 "metadata": {
  "kernelspec": {
   "display_name": "pdftorag",
   "language": "python",
   "name": "python3"
  },
  "language_info": {
   "codemirror_mode": {
    "name": "ipython",
    "version": 3
   },
   "file_extension": ".py",
   "mimetype": "text/x-python",
   "name": "python",
   "nbconvert_exporter": "python",
   "pygments_lexer": "ipython3",
   "version": "3.10.14"
  }
 },
 "nbformat": 4,
 "nbformat_minor": 2
}
