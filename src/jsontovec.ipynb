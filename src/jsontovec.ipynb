{
 "cells": [
  {
   "cell_type": "code",
   "execution_count": 1,
   "metadata": {},
   "outputs": [],
   "source": [
    "from langchain_text_splitters import RecursiveJsonSplitter\n",
    "from langchain_chroma import Chroma\n",
    "from langchain_openai import OpenAIEmbeddings\n",
    "import json\n",
    "import numpy as np\n",
    "from config import OUTPUT_PATH\n",
    "from dotenv import load_dotenv"
   ]
  },
  {
   "cell_type": "code",
   "execution_count": 2,
   "metadata": {},
   "outputs": [
    {
     "data": {
      "text/plain": [
       "True"
      ]
     },
     "execution_count": 2,
     "metadata": {},
     "output_type": "execute_result"
    }
   ],
   "source": [
    "load_dotenv()"
   ]
  },
  {
   "cell_type": "code",
   "execution_count": 4,
   "metadata": {},
   "outputs": [],
   "source": [
    "with open(\"../\" + OUTPUT_PATH + f\"사업계획서자손2.json\", \"r\", encoding=\"UTF-8\") as fp:\n",
    "    text= fp.read()\n",
    "    \n",
    "json_data = json.loads(text)\n",
    "\n",
    "splitter = RecursiveJsonSplitter(max_chunk_size=400)\n",
    "docs = splitter.create_documents(texts=[json_data], ensure_ascii=False)\n",
    "#docs = splitter.split_json(json_data=json_data)"
   ]
  },
  {
   "cell_type": "code",
   "execution_count": 5,
   "metadata": {},
   "outputs": [
    {
     "data": {
      "text/plain": [
       "613"
      ]
     },
     "execution_count": 5,
     "metadata": {},
     "output_type": "execute_result"
    }
   ],
   "source": [
    "len(docs)"
   ]
  },
  {
   "cell_type": "code",
   "execution_count": 6,
   "metadata": {},
   "outputs": [
    {
     "data": {
      "text/plain": [
       "[Document(page_content='{\"자본금_0\": {\"Year\": \"2023\", \"Value\": {\"Samsung\": 897514, \"Hyundai\": \"-\", \"Kepco\": \"-\", \"Sum\": 897514, \"Avg\": 897514.0}, \"Ancestors\": [\"자본\", \"지배기업 소유주지분\"]}}'),\n",
       " Document(page_content='{\"보통주자본금_0\": {\"Year\": \"2023\", \"Value\": {\"Samsung\": 778047, \"Hyundai\": \"-\", \"Kepco\": \"-\", \"Sum\": 778047, \"Avg\": 778047.0}, \"Ancestors\": [\"자본\", \"지배기업 소유주지분\", \"자본금\"]}}'),\n",
       " Document(page_content='{\"우선주자본금_0\": {\"Year\": \"2023\", \"Value\": {\"Samsung\": 119467, \"Hyundai\": \"-\", \"Kepco\": \"-\", \"Sum\": 119467, \"Avg\": 119467.0}, \"Ancestors\": [\"자본\", \"지배기업 소유주지분\", \"자본금\"]}}'),\n",
       " Document(page_content='{\"주식발행초과금_0\": {\"Year\": \"2023\", \"Value\": {\"Samsung\": 4403893, \"Hyundai\": \"-\", \"Kepco\": \"-\", \"Sum\": 4403893, \"Avg\": 4403893.0}, \"Ancestors\": [\"자본\", \"지배기업 소유주지분\"]}}'),\n",
       " Document(page_content='{\"지배기업소유주지분_0\": {\"Year\": \"2023\", \"Value\": {\"Samsung\": \"-\", \"Hyundai\": 92497311, \"Kepco\": \"-\", \"Sum\": 92497311, \"Avg\": 92497311.0}, \"Ancestors\": [\"자본\"]}}'),\n",
       " Document(page_content='{\"기타자본항목_1\": {\"Year\": \"2023\", \"Value\": {\"Samsung\": \"-\", \"Hyundai\": -1197084, \"Kepco\": \"-\", \"Sum\": -1197084, \"Avg\": -1197084.0}, \"Ancestors\": [\"자본\", \"지배기업소유주지분\"]}}'),\n",
       " Document(page_content='{\"기타포괄손익누계액_0\": {\"Year\": \"2023\", \"Value\": {\"Samsung\": \"-\", \"Hyundai\": -838892, \"Kepco\": \"-\", \"Sum\": -838892, \"Avg\": -838892.0}, \"Ancestors\": [\"자본\", \"지배기업소유주지분\"]}}'),\n",
       " Document(page_content='{\"이익잉여금_1\": {\"Year\": \"2023\", \"Value\": {\"Samsung\": \"-\", \"Hyundai\": 88665805, \"Kepco\": \"-\", \"Sum\": 88665805, \"Avg\": 88665805.0}, \"Ancestors\": [\"자본\", \"지배기업소유주지분\"]}}'),\n",
       " Document(page_content='{\"자본금_1\": {\"Year\": \"2023\", \"Value\": {\"Samsung\": \"-\", \"Hyundai\": 1488993, \"Kepco\": \"-\", \"Sum\": 1488993, \"Avg\": 1488993.0}, \"Ancestors\": [\"자본\", \"지배기업소유주지분\"]}}'),\n",
       " Document(page_content='{\"자본잉여금_0\": {\"Year\": \"2023\", \"Value\": {\"Samsung\": \"-\", \"Hyundai\": 4378489, \"Kepco\": \"-\", \"Sum\": 4378489, \"Avg\": 4378489.0}, \"Ancestors\": [\"자본\", \"지배기업소유주지분\"]}}')]"
      ]
     },
     "execution_count": 6,
     "metadata": {},
     "output_type": "execute_result"
    }
   ],
   "source": [
    "docs[40:50]"
   ]
  },
  {
   "cell_type": "code",
   "execution_count": 16,
   "metadata": {},
   "outputs": [
    {
     "data": {
      "text/plain": [
       "langchain_core.documents.base.Document"
      ]
     },
     "execution_count": 16,
     "metadata": {},
     "output_type": "execute_result"
    }
   ],
   "source": [
    "type(docs[40])"
   ]
  },
  {
   "cell_type": "code",
   "execution_count": 61,
   "metadata": {},
   "outputs": [
    {
     "name": "stdout",
     "output_type": "stream",
     "text": [
      "169\n",
      "page_content='{\"부채총계_2\": {\"Year\": \"2021\", \"Value\": {\"Samsung\": 121721227, \"Hyundai\": 151330626, \"Kepco\": 145797021, \"Sum\": 418848874, \"Avg\": 139616291.33333334}, \"Ancestors\": [\"부채\"]}}'\n"
     ]
    }
   ],
   "source": [
    "max = 0\n",
    "max_doc = \"\"\n",
    "for doc in docs:\n",
    "    if max < len(doc.page_content):\n",
    "        max = len(doc.page_content)\n",
    "        max_doc = doc\n",
    "print(max)\n",
    "print(max_doc)"
   ]
  },
  {
   "cell_type": "code",
   "execution_count": 5,
   "metadata": {},
   "outputs": [],
   "source": [
    "doc_texts = []\n",
    "for idx in range(len(docs)):\n",
    "    doc_texts.append(docs[idx].page_content)"
   ]
  },
  {
   "cell_type": "code",
   "execution_count": 26,
   "metadata": {},
   "outputs": [
    {
     "ename": "NameError",
     "evalue": "name 'doc_texts' is not defined",
     "output_type": "error",
     "traceback": [
      "\u001b[1;31m---------------------------------------------------------------------------\u001b[0m",
      "\u001b[1;31mNameError\u001b[0m                                 Traceback (most recent call last)",
      "Cell \u001b[1;32mIn[26], line 1\u001b[0m\n\u001b[1;32m----> 1\u001b[0m \u001b[43mdoc_texts\u001b[49m[\u001b[38;5;241m40\u001b[39m]\n",
      "\u001b[1;31mNameError\u001b[0m: name 'doc_texts' is not defined"
     ]
    }
   ],
   "source": [
    "doc_texts[40]"
   ]
  },
  {
   "cell_type": "code",
   "execution_count": 4,
   "metadata": {},
   "outputs": [],
   "source": [
    "\n",
    "text_embedding_model = OpenAIEmbeddings()\n",
    "\n",
    "#embedded_texts = text_embedding_model.embed_documents(doc_texts)\n"
   ]
  },
  {
   "cell_type": "code",
   "execution_count": 5,
   "metadata": {},
   "outputs": [],
   "source": [
    "\n",
    "db = Chroma.from_documents(\n",
    "    docs,\n",
    "    text_embedding_model,\n",
    "    collection_name = \"saup\",\n",
    "    persist_directory = OUTPUT_PATH + \"chromadb\",\n",
    "    collection_metadata = {\"hnsw:space\":\"cosine\"}       # 이거 뭘까 공부할 필요가 있음\n",
    ")"
   ]
  },
  {
   "cell_type": "code",
   "execution_count": 18,
   "metadata": {},
   "outputs": [
    {
     "name": "stdout",
     "output_type": "stream",
     "text": [
      "{\"비지배지분_1\": {\"Year\": \"2023\", \"Value\": {\"Samsung\": \"-\", \"Hyundai\": 310584, \"Sum\": 310584, \"Avg\": 310584.0}, \"Ancestors\": [\"당기순이익(손실)의 귀속\"]}}\n",
      "{\"비지배지분_4\": {\"Year\": \"2022\", \"Value\": {\"Samsung\": \"-\", \"Hyundai\": 619250, \"Sum\": 619250, \"Avg\": 619250.0}, \"Ancestors\": [\"당기순이익(손실)의 귀속\"]}}\n",
      "{\"비지배지분에 귀속되는 당기순이익(손실)_5\": {\"Value\": {\"Samsung\": \"-\", \"Hyundai\": \"-\", \"Kepco\": 88941, \"Sum\": 88941, \"Avg\": 88941.0}, \"Ancestors\": [\"당기순이익(손실)의 귀속\"]}}\n",
      "{\"비지배지분_7\": {\"Year\": \"2021\", \"Value\": {\"Samsung\": \"-\", \"Hyundai\": 750721, \"Sum\": 750721, \"Avg\": 750721.0}, \"Ancestors\": [\"당기순이익(손실)의 귀속\"]}}\n",
      "{\"비지배지분에 귀속되는 포괄손익_0\": {\"Year\": \"2023\", \"Value\": {\"Samsung\": \"-\", \"Hyundai\": \"-\", \"Kepco\": 87768, \"Sum\": 87768, \"Avg\": 87768.0}, \"Ancestors\": [\"총 포괄손익의 귀속\"]}}\n",
      "{\"비지배지분에 귀속되는 포괄손익_2\": {\"Year\": \"2021\", \"Value\": {\"Samsung\": \"-\", \"Hyundai\": \"-\", \"Kepco\": 127546, \"Sum\": 127546, \"Avg\": 127546.0}, \"Ancestors\": [\"총 포괄손익의 귀속\"]}}\n",
      "{\"비지배지분에 귀속되는 당기순이익(손실)_3\": {\"Value\": {\"Samsung\": \"-\", \"Hyundai\": \"-\", \"Kepco\": 37745, \"Sum\": 37745, \"Avg\": 37745.0}, \"Ancestors\": [\"당기순이익(손실)의 귀속\"]}}\n",
      "{\"비지배지분에 귀속되는 당기순이익(손실)_1\": {\"Value\": {\"Samsung\": \"-\", \"Hyundai\": \"-\", \"Kepco\": 106405, \"Sum\": 106405, \"Avg\": 106405.0}, \"Ancestors\": [\"당기순이익(손실)의 귀속\"]}}\n",
      "{\"비지배지분에 귀속되는 포괄손익_1\": {\"Year\": \"2022\", \"Value\": {\"Samsung\": \"-\", \"Hyundai\": \"-\", \"Kepco\": 90932, \"Sum\": 90932, \"Avg\": 90932.0}, \"Ancestors\": [\"총 포괄손익의 귀속\"]}}\n",
      "{\"비지배지분에 귀속되는 당기순이익(손실)_0\": {\"Year\": \"2023\", \"Value\": {\"Samsung\": 1013699, \"Hyundai\": \"-\", \"Sum\": 1013699, \"Avg\": 1013699.0}, \"Ancestors\": [\"당기순이익(손실)의 귀속\"]}}\n",
      "{\"비지배지분에 귀속되는 당기순이익(손실)_4\": {\"Year\": \"2021\", \"Value\": {\"Samsung\": 663659, \"Hyundai\": \"-\", \"Sum\": 663659, \"Avg\": 663659.0}, \"Ancestors\": [\"당기순이익(손실)의 귀속\"]}}\n",
      "{\"비지배지분에 귀속되는 당기순이익(손실)_2\": {\"Year\": \"2022\", \"Value\": {\"Samsung\": 924059, \"Hyundai\": \"-\", \"Sum\": 924059, \"Avg\": 924059.0}, \"Ancestors\": [\"당기순이익(손실)의 귀속\"]}}\n",
      "{\"포괄손익의 귀속_0\": {\"Year\": \"2023\", \"Value\": {\"Samsung\": \"-\", \"Hyundai\": \"-\", \"Kepco\": \"-\", \"Sum\": \"-\", \"Avg\": \"-\"}, \"Ancestors\": []}, \"비지배지분_2\": {\"Year\": \"2023\", \"Value\": {\"Samsung\": 991750, \"Hyundai\": 224415, \"Kepco\": \"-\", \"Sum\": 1216165, \"Avg\": 608082.5}, \"Ancestors\": [\"포괄손익의 귀속\"]}}\n",
      "{\"지배기업 소유주지분_0\": {\"Ancestors\": [\"자본\"]}, \"기타자본항목_0\": {\"Year\": \"2023\", \"Value\": {\"Samsung\": 1280130, \"Hyundai\": \"-\", \"Kepco\": \"-\", \"Sum\": 1280130, \"Avg\": 1280130.0}, \"Ancestors\": [\"자본\", \"지배기업 소유주지분\"]}}\n",
      "{\"지배기업 소유주지분_4\": {\"Ancestors\": [\"자본\"]}, \"기타자본항목_4\": {\"Year\": \"2021\", \"Value\": {\"Samsung\": -2128473, \"Hyundai\": \"-\", \"Kepco\": \"-\", \"Sum\": -2128473, \"Avg\": -2128473.0}, \"Ancestors\": [\"자본\", \"지배기업 소유주지분\"]}}\n",
      "{\"지분법이익잉여금_0\": {\"Year\": \"2023\", \"Value\": {\"Samsung\": \"-\", \"Hyundai\": -219981, \"Kepco\": \"-\", \"Sum\": -219981, \"Avg\": -219981.0}, \"Ancestors\": [\"기타포괄손익\", \"후속적으로 당기손익으로 재분류되지 않는항목\"]}}\n",
      "{\"포괄손익의 귀속_1\": {\"Year\": \"2022\", \"Value\": {\"Samsung\": \"-\", \"Hyundai\": \"-\", \"Kepco\": \"-\", \"Sum\": \"-\", \"Avg\": \"-\"}, \"Ancestors\": []}, \"비지배지분_5\": {\"Year\": \"2022\", \"Value\": {\"Samsung\": 914634, \"Hyundai\": 800080, \"Kepco\": \"-\", \"Sum\": 1714714, \"Avg\": 857357.0}, \"Ancestors\": [\"포괄손익의 귀속\"]}}\n",
      "{\"포괄손익의 귀속_2\": {\"Year\": \"2021\", \"Value\": {\"Samsung\": \"-\", \"Hyundai\": \"-\", \"Kepco\": \"-\", \"Sum\": \"-\", \"Avg\": \"-\"}, \"Ancestors\": []}, \"비지배지분_8\": {\"Year\": \"2021\", \"Value\": {\"Samsung\": 871837, \"Hyundai\": 922502, \"Kepco\": \"-\", \"Sum\": 1794339, \"Avg\": 897169.5}, \"Ancestors\": [\"포괄손익의 귀속\"]}}\n",
      "{\"지배기업소유주지분_0\": {\"Year\": \"2023\", \"Value\": {\"Samsung\": \"-\", \"Hyundai\": 92497311, \"Kepco\": \"-\", \"Sum\": 92497311, \"Avg\": 92497311.0}, \"Ancestors\": [\"자본\"]}}\n",
      "{\"지배기업소유주지분_5\": {\"Year\": \"2022\", \"Value\": {\"Samsung\": \"-\", \"Hyundai\": 8234396, \"Kepco\": \"-\", \"Sum\": 8234396, \"Avg\": 8234396.0}, \"Ancestors\": [\"포괄손익의 귀속\"]}, \"부채_2\": {\"Year\": \"2021\", \"Value\": {\"Samsung\": \"-\", \"Hyundai\": \"-\", \"Kepco\": \"-\", \"Sum\": \"-\", \"Avg\": \"-\"}, \"Ancestors\": []}}\n"
     ]
    }
   ],
   "source": [
    "query = \"비지배지분\"\n",
    "retriever = db.as_retriever(\n",
    "    search_type = \"similarity\",\n",
    "    search_kwargs={\"k\":20}\n",
    ")\n",
    "docs = retriever.invoke(query)\n",
    "for doc in docs:\n",
    "    print(doc.page_content)"
   ]
  },
  {
   "cell_type": "code",
   "execution_count": 56,
   "metadata": {},
   "outputs": [],
   "source": [
    "import tiktoken\n",
    "\n",
    "tokenizer = tiktoken.get_encoding(\"cl100k_base\")\n",
    "\n",
    "def tiktoken_len(text):\n",
    "    tokens = tokenizer.encode(text)\n",
    "    return len(tokens)"
   ]
  }
 ],
 "metadata": {
  "kernelspec": {
   "display_name": "pdftorag",
   "language": "python",
   "name": "python3"
  },
  "language_info": {
   "codemirror_mode": {
    "name": "ipython",
    "version": 3
   },
   "file_extension": ".py",
   "mimetype": "text/x-python",
   "name": "python",
   "nbconvert_exporter": "python",
   "pygments_lexer": "ipython3",
   "version": "3.10.14"
  }
 },
 "nbformat": 4,
 "nbformat_minor": 2
}
